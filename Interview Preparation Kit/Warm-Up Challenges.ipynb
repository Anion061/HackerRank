{
 "cells": [
  {
   "cell_type": "markdown",
   "id": "49d0dda3",
   "metadata": {},
   "source": [
    "# SALES BY MATCH"
   ]
  },
  {
   "cell_type": "code",
   "execution_count": 1,
   "id": "6ed54f88",
   "metadata": {},
   "outputs": [],
   "source": [
    "n=9\n",
    "ar = [10, 20, 20, 10, 10, 30, 50, 10, 20]"
   ]
  },
  {
   "cell_type": "code",
   "execution_count": 2,
   "id": "9ccab5df",
   "metadata": {},
   "outputs": [
    {
     "name": "stdout",
     "output_type": "stream",
     "text": [
      "3\n"
     ]
    }
   ],
   "source": [
    "d={}\n",
    "for i in ar:\n",
    "    if i in d:\n",
    "        d[i]+=1\n",
    "    else:\n",
    "        d[i]=1\n",
    "count=0\n",
    "for key,val in d.items():\n",
    "    if val>=2:\n",
    "        count+=int(val/2)\n",
    "print(count)"
   ]
  },
  {
   "cell_type": "code",
   "execution_count": null,
   "id": "8e339833",
   "metadata": {},
   "outputs": [],
   "source": []
  }
 ],
 "metadata": {
  "kernelspec": {
   "display_name": "Python 3",
   "language": "python",
   "name": "python3"
  },
  "language_info": {
   "codemirror_mode": {
    "name": "ipython",
    "version": 3
   },
   "file_extension": ".py",
   "mimetype": "text/x-python",
   "name": "python",
   "nbconvert_exporter": "python",
   "pygments_lexer": "ipython3",
   "version": "3.8.8"
  }
 },
 "nbformat": 4,
 "nbformat_minor": 5
}
