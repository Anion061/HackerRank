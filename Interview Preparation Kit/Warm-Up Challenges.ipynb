{
 "cells": [
  {
   "cell_type": "markdown",
   "id": "49d0dda3",
   "metadata": {},
   "source": [
    "# SALES BY MATCH"
   ]
  },
  {
   "cell_type": "code",
   "execution_count": 1,
   "id": "6ed54f88",
   "metadata": {},
   "outputs": [],
   "source": [
    "n=9\n",
    "ar = [10, 20, 20, 10, 10, 30, 50, 10, 20]"
   ]
  },
  {
   "cell_type": "code",
   "execution_count": 2,
   "id": "9ccab5df",
   "metadata": {},
   "outputs": [
    {
     "name": "stdout",
     "output_type": "stream",
     "text": [
      "3\n"
     ]
    }
   ],
   "source": [
    "d={}\n",
    "for i in ar:\n",
    "    if i in d:\n",
    "        d[i]+=1\n",
    "    else:\n",
    "        d[i]=1\n",
    "count=0\n",
    "for key,val in d.items():\n",
    "    if val>=2:\n",
    "        count+=int(val/2)\n",
    "print(count)"
   ]
  },
  {
   "cell_type": "markdown",
   "id": "fdbd2e8b",
   "metadata": {},
   "source": [
    "# COUNTING VALLEYS"
   ]
  },
  {
   "cell_type": "code",
   "execution_count": 1,
   "id": "1ec29e8f",
   "metadata": {},
   "outputs": [],
   "source": [
    "steps=8\n",
    "paths='UDDDUDUU'"
   ]
  },
  {
   "cell_type": "code",
   "execution_count": 2,
   "id": "b7503d06",
   "metadata": {},
   "outputs": [
    {
     "name": "stdout",
     "output_type": "stream",
     "text": [
      "1\n"
     ]
    }
   ],
   "source": [
    "pos=0\n",
    "count=0\n",
    "for path in paths:\n",
    "    #check the path\n",
    "    if path=='U':\n",
    "        pos+=1 \n",
    "    else:\n",
    "    #if pos at sea level and going downhill add 1\n",
    "        if pos==0:\n",
    "            count+=1\n",
    "        pos-=1\n",
    "print(count) "
   ]
  },
  {
   "cell_type": "markdown",
   "id": "4a02e0f7",
   "metadata": {},
   "source": [
    "# JUMPING ON THE CLOUDS"
   ]
  },
  {
   "cell_type": "code",
   "execution_count": 3,
   "id": "5c37bfb6",
   "metadata": {},
   "outputs": [],
   "source": [
    "c=[0 ,0 ,1 ,0 ,0 ,1 ,0]"
   ]
  },
  {
   "cell_type": "code",
   "execution_count": 4,
   "id": "86c5786b",
   "metadata": {},
   "outputs": [
    {
     "name": "stdout",
     "output_type": "stream",
     "text": [
      "4\n"
     ]
    }
   ],
   "source": [
    "pos=0\n",
    "jump=0\n",
    "while pos<(len(c)-2):\n",
    "    if c[pos+2]==0 :\n",
    "        pos+=2\n",
    "    else:\n",
    "        pos+=1\n",
    "    jump+=1\n",
    "\n",
    "if pos<len(c)-1:\n",
    "    jump+=1\n",
    "print(jump) "
   ]
  },
  {
   "cell_type": "markdown",
   "id": "e51b9d3a",
   "metadata": {},
   "source": [
    "# REPEATED STRINGS"
   ]
  },
  {
   "cell_type": "code",
   "execution_count": 6,
   "id": "9a52a858",
   "metadata": {},
   "outputs": [],
   "source": [
    "s='aba'\n",
    "n=10"
   ]
  },
  {
   "cell_type": "code",
   "execution_count": 7,
   "id": "6c6f6545",
   "metadata": {},
   "outputs": [
    {
     "name": "stdout",
     "output_type": "stream",
     "text": [
      "7\n"
     ]
    }
   ],
   "source": [
    "count=0 \n",
    "for i in s:\n",
    "    if i=='a':\n",
    "        count+=1 \n",
    "ln=len(s)\n",
    "count*=int(n/ln)\n",
    "if n%ln!=0:\n",
    "    for i in s[:n%ln]:\n",
    "        if i=='a':\n",
    "            count+=1 \n",
    "print(count)"
   ]
  },
  {
   "cell_type": "code",
   "execution_count": null,
   "id": "db37efb2",
   "metadata": {},
   "outputs": [],
   "source": []
  }
 ],
 "metadata": {
  "kernelspec": {
   "display_name": "Python 3",
   "language": "python",
   "name": "python3"
  },
  "language_info": {
   "codemirror_mode": {
    "name": "ipython",
    "version": 3
   },
   "file_extension": ".py",
   "mimetype": "text/x-python",
   "name": "python",
   "nbconvert_exporter": "python",
   "pygments_lexer": "ipython3",
   "version": "3.8.8"
  }
 },
 "nbformat": 4,
 "nbformat_minor": 5
}
