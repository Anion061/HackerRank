{
 "cells": [
  {
   "cell_type": "markdown",
   "id": "7083fc16",
   "metadata": {},
   "source": [
    "# NEW YEAR CHAOS"
   ]
  },
  {
   "cell_type": "code",
   "execution_count": 1,
   "id": "8b2b8b17",
   "metadata": {},
   "outputs": [],
   "source": [
    "q = [2, 1, 5, 3, 4]"
   ]
  },
  {
   "cell_type": "code",
   "execution_count": 4,
   "id": "b99d8f36",
   "metadata": {},
   "outputs": [
    {
     "name": "stdout",
     "output_type": "stream",
     "text": [
      "i= 4\n",
      "Index 2 4\n",
      "comapare 5 4\n",
      "swap\n",
      "Index 3 4\n",
      "comapare 3 4\n",
      "i= 3\n",
      "Index 1 3\n",
      "comapare 1 3\n",
      "Index 2 3\n",
      "comapare 5 3\n",
      "swap\n",
      "i= 2\n",
      "i= 1\n",
      "Index 0 1\n",
      "comapare 2 1\n",
      "swap\n",
      "i= 0\n",
      "3\n"
     ]
    }
   ],
   "source": [
    "swaps = 0\n",
    "for i in range(len(q)-1,-1,-1):\n",
    "    print('i=',i)\n",
    "    if q[i] - (i + 1) > 2:\n",
    "        print('Too chaotic')\n",
    "        break\n",
    "    for j in range(max(0, q[i] - 2),i):\n",
    "        \n",
    "        print('Index',j,i)\n",
    "        print('comapare', q[j],q[i])\n",
    "        \n",
    "        if q[j] > q[i]:\n",
    "            print('swap')\n",
    "            swaps+=1\n",
    "            \n",
    "print(swaps)"
   ]
  },
  {
   "cell_type": "markdown",
   "id": "8f6de0ee",
   "metadata": {},
   "source": [
    "# ARRAY MANIPULATION"
   ]
  },
  {
   "cell_type": "code",
   "execution_count": 5,
   "id": "6c9046a3",
   "metadata": {},
   "outputs": [],
   "source": [
    "n=10\n",
    "queries=[[1, 2 ,100],[2, 5, 100],[3, 4, 100]]\n",
    "queries=[[1, 5, 3],[4 ,8, 7],[6, 9, 1]]"
   ]
  },
  {
   "cell_type": "code",
   "execution_count": 6,
   "id": "33009e65",
   "metadata": {},
   "outputs": [
    {
     "name": "stdout",
     "output_type": "stream",
     "text": [
      "10\n"
     ]
    }
   ],
   "source": [
    "#BRUTE FORCE\n",
    "lst=[0]*n\n",
    "for q in queries:\n",
    "    if q[2]==0:\n",
    "        continue\n",
    "    for j in range(q[0]-1,q[1]):\n",
    "        lst[j]+=q[2]\n",
    "    \n",
    "print(max(lst)) "
   ]
  },
  {
   "cell_type": "code",
   "execution_count": 7,
   "id": "d475bee7",
   "metadata": {},
   "outputs": [
    {
     "name": "stdout",
     "output_type": "stream",
     "text": [
      "10\n"
     ]
    }
   ],
   "source": [
    "# BEST SOLUTION\n",
    "lst=[0]*(n+1)\n",
    "for q in queries:\n",
    "    if q[2]==0:\n",
    "        continue\n",
    "    lst[q[0]-1]+=q[2]\n",
    "\n",
    "    lst[q[1]]+=(-q[2])\n",
    "m=0\n",
    "s=0\n",
    "for i in lst:\n",
    "    s+=i\n",
    "    if m<s:\n",
    "        m=s\n",
    "        \n",
    "print(m)"
   ]
  },
  {
   "cell_type": "markdown",
   "id": "55fdaf7d",
   "metadata": {},
   "source": [
    "# 2D ARRAY-DS"
   ]
  },
  {
   "cell_type": "code",
   "execution_count": 13,
   "id": "dfffaead",
   "metadata": {},
   "outputs": [
    {
     "name": "stdout",
     "output_type": "stream",
     "text": [
      "[[1, 1, 1, 0, 0, 0], [0, 1, 0, 0, 0, 0], [1, 1, 1, 0, 0, 0], [0, 0, 2, 4, 4, 0], [0, 0, 0, 2, 0, 0], [0, 0, 1, 2, 4, 0]]\n"
     ]
    }
   ],
   "source": [
    "arr=[\n",
    "[1, 1, 1, 0, 0, 0],\n",
    "[0, 1, 0, 0, 0, 0],\n",
    "[1, 1, 1, 0, 0, 0],\n",
    "[0, 0, 2, 4, 4, 0],\n",
    "[0, 0, 0, 2, 0, 0],\n",
    "[0, 0, 1, 2, 4, 0]]\n",
    "print(arr)"
   ]
  },
  {
   "cell_type": "code",
   "execution_count": 18,
   "id": "ea4f88e1",
   "metadata": {},
   "outputs": [],
   "source": [
    "def hourglassSum(arr):\n",
    "    lst=[]\n",
    "    for i in range(4):\n",
    "        for j in range(4):\n",
    "            s=0\n",
    "            for k in range(3):\n",
    "                s+=arr[i][j+k]+arr[i+2][j+k]\n",
    "            s+=arr[i+1][j+1]\n",
    "            lst.append(s)\n",
    "    return max(lst)"
   ]
  },
  {
   "cell_type": "code",
   "execution_count": 19,
   "id": "3f1e602a",
   "metadata": {},
   "outputs": [
    {
     "data": {
      "text/plain": [
       "19"
      ]
     },
     "execution_count": 19,
     "metadata": {},
     "output_type": "execute_result"
    }
   ],
   "source": [
    "hourglassSum(arr)"
   ]
  },
  {
   "cell_type": "markdown",
   "id": "657280c5",
   "metadata": {},
   "source": [
    "# ARRAYS:LEFT ROTATION"
   ]
  },
  {
   "cell_type": "code",
   "execution_count": 22,
   "id": "2cd896af",
   "metadata": {},
   "outputs": [],
   "source": [
    "d=4\n",
    "a=[1, 2, 3, 4, 5]"
   ]
  },
  {
   "cell_type": "code",
   "execution_count": 23,
   "id": "e6d35563",
   "metadata": {},
   "outputs": [
    {
     "name": "stdout",
     "output_type": "stream",
     "text": [
      "[5, 1, 2, 3, 4]\n"
     ]
    }
   ],
   "source": [
    "na=[0]*len(a)\n",
    "for i in range(len(a)):\n",
    "    na[i-d]=a[i]\n",
    "print(na)"
   ]
  },
  {
   "cell_type": "markdown",
   "id": "0855fa38",
   "metadata": {},
   "source": [
    "# MINIMUM SWAPS 2"
   ]
  },
  {
   "cell_type": "code",
   "execution_count": 26,
   "id": "d41f638f",
   "metadata": {},
   "outputs": [],
   "source": [
    "arr=[1, 3, 5, 2, 4, 6, 7]"
   ]
  },
  {
   "cell_type": "code",
   "execution_count": 27,
   "id": "a3c8a27c",
   "metadata": {},
   "outputs": [
    {
     "name": "stdout",
     "output_type": "stream",
     "text": [
      "3\n"
     ]
    }
   ],
   "source": [
    "temp={}\n",
    "swap=0\n",
    "for i,e in enumerate(arr):\n",
    "    temp[e]=i+1\n",
    "for i in range(1,len(arr)+1):\n",
    "    if temp[i]!=i:\n",
    "        temp[arr[i-1]]=temp[i]\n",
    "        arr[temp[i]-1]=arr[i-1]\n",
    "        swap+=1\n",
    "print(swap)"
   ]
  }
 ],
 "metadata": {
  "kernelspec": {
   "display_name": "Python 3",
   "language": "python",
   "name": "python3"
  },
  "language_info": {
   "codemirror_mode": {
    "name": "ipython",
    "version": 3
   },
   "file_extension": ".py",
   "mimetype": "text/x-python",
   "name": "python",
   "nbconvert_exporter": "python",
   "pygments_lexer": "ipython3",
   "version": "3.8.8"
  }
 },
 "nbformat": 4,
 "nbformat_minor": 5
}
