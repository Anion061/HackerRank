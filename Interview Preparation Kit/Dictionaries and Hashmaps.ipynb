{
 "cells": [
  {
   "cell_type": "code",
   "execution_count": 4,
   "id": "6679bed7",
   "metadata": {},
   "outputs": [],
   "source": [
    "ar = [10, 20, 20, 10, 10, 30, 50, 10, 20]"
   ]
  },
  {
   "cell_type": "code",
   "execution_count": 10,
   "id": "b6505b10",
   "metadata": {},
   "outputs": [],
   "source": [
    "d={}\n",
    "for i in ar:\n",
    "    \n",
    "    if i in d:\n",
    "        d[i]+=1\n",
    "    else:\n",
    "        d[i]=1\n",
    "    \n",
    "count=0\n",
    "for key,val in d.items():\n",
    "    if val>=2:\n",
    "        count+=int(val/2)"
   ]
  },
  {
   "cell_type": "code",
   "execution_count": 11,
   "id": "45a60047",
   "metadata": {},
   "outputs": [
    {
     "data": {
      "text/plain": [
       "3"
      ]
     },
     "execution_count": 11,
     "metadata": {},
     "output_type": "execute_result"
    }
   ],
   "source": [
    "count"
   ]
  },
  {
   "cell_type": "code",
   "execution_count": 91,
   "id": "a303b275",
   "metadata": {},
   "outputs": [],
   "source": [
    "def hourglassSum(arr):\n",
    "    lst=[]\n",
    "    for i in range(4):\n",
    "        for j in range(4):\n",
    "            print('-------')\n",
    "            print(i,j)\n",
    "            print('-------')\n",
    "            s=0\n",
    "            for k in range(3):\n",
    "                s+=arr[i][j+k]+arr[i+2][j+k]\n",
    "            s+=arr[i+1][j+1]\n",
    "                \n",
    "            \n",
    "            print(s)\n",
    "            lst.append(s)\n",
    "    return max(lst)"
   ]
  },
  {
   "cell_type": "code",
   "execution_count": 92,
   "id": "390bea11",
   "metadata": {},
   "outputs": [
    {
     "name": "stdout",
     "output_type": "stream",
     "text": [
      "[[1, 1, 1, 0, 0, 0], [0, 1, 0, 0, 0, 0], [1, 1, 1, 0, 0, 0], [0, 0, 2, 4, 4, 0], [0, 0, 0, 2, 0, 0], [0, 0, 1, 2, 4, 0]]\n"
     ]
    }
   ],
   "source": [
    "arr=[\n",
    "[1, 1, 1, 0, 0, 0],\n",
    "[0, 1, 0, 0, 0, 0],\n",
    "[1, 1, 1, 0, 0, 0],\n",
    "[0, 0, 2, 4, 4, 0],\n",
    "[0, 0, 0, 2, 0, 0],\n",
    "[0, 0, 1, 2, 4, 0]]\n",
    "print(arr)"
   ]
  },
  {
   "cell_type": "code",
   "execution_count": 13,
   "id": "bcc3b140",
   "metadata": {},
   "outputs": [
    {
     "name": "stdout",
     "output_type": "stream",
     "text": [
      "5 3\n",
      "5 4\n",
      "7 6\n",
      "7 4\n",
      "8 6\n",
      "8 4\n",
      "6 4\n"
     ]
    }
   ],
   "source": [
    "q=[1, 2, 5, 3, 7 ,8 ,6, 4]\n",
    "count=0\n",
    "\n",
    "for i in range(len(q)):\n",
    "    shift= q[i]-(i+1)\n",
    "    if shift>2:\n",
    "        count='Too chaotic'\n",
    "        break\n",
    "    else:\n",
    "        for j in q[i:len(q)]:\n",
    "            if q[i]>j:\n",
    "                print(q[i],j)\n",
    "                count+=1\n",
    "a"
   ]
  },
  {
   "cell_type": "code",
   "execution_count": 14,
   "id": "fee56f64",
   "metadata": {},
   "outputs": [
    {
     "data": {
      "text/plain": [
       "7"
      ]
     },
     "execution_count": 14,
     "metadata": {},
     "output_type": "execute_result"
    }
   ],
   "source": [
    "count"
   ]
  },
  {
   "cell_type": "markdown",
   "id": "91f67993",
   "metadata": {},
   "source": [
    "# ARRAY MANIPULATION"
   ]
  },
  {
   "cell_type": "code",
   "execution_count": 18,
   "id": "623e1fb2",
   "metadata": {},
   "outputs": [],
   "source": [
    "n=10\n",
    "queries=[[1, 2 ,100],[2, 5, 100],[3, 4, 100]]\n",
    "queries=[[1, 5, 3],[4 ,8, 7],[6, 9, 1]]"
   ]
  },
  {
   "cell_type": "code",
   "execution_count": 27,
   "id": "492b5c92",
   "metadata": {},
   "outputs": [
    {
     "name": "stdout",
     "output_type": "stream",
     "text": [
      "10\n"
     ]
    }
   ],
   "source": [
    "#BRUTE FORCE\n",
    "lst=[0]*n\n",
    "for q in queries:\n",
    "    if q[2]==0:\n",
    "        continue\n",
    "    for j in range(q[0]-1,q[1]):\n",
    "        lst[j]+=q[2]\n",
    "    \n",
    "print(max(lst)) "
   ]
  },
  {
   "cell_type": "code",
   "execution_count": 28,
   "id": "9b42dda1",
   "metadata": {},
   "outputs": [
    {
     "name": "stdout",
     "output_type": "stream",
     "text": [
      "10\n"
     ]
    }
   ],
   "source": [
    "# BEST SOLUTION\n",
    "lst=[0]*(n+1)\n",
    "for q in queries:\n",
    "    if q[2]==0:\n",
    "        continue\n",
    "    lst[q[0]-1]+=q[2]\n",
    "\n",
    "    lst[q[1]]+=(-q[2])\n",
    "m=0\n",
    "s=0\n",
    "for i in lst:\n",
    "    s+=i\n",
    "    if m<s:\n",
    "        m=s\n",
    "        \n",
    "print(m)"
   ]
  },
  {
   "cell_type": "markdown",
   "id": "c905e60f",
   "metadata": {},
   "source": [
    "# NEW YEAR CHAOS"
   ]
  },
  {
   "cell_type": "code",
   "execution_count": 29,
   "id": "ffd4c24f",
   "metadata": {},
   "outputs": [],
   "source": [
    "q = [2, 1, 5, 3, 4]"
   ]
  },
  {
   "cell_type": "code",
   "execution_count": 43,
   "id": "a32152e2",
   "metadata": {},
   "outputs": [
    {
     "name": "stdout",
     "output_type": "stream",
     "text": [
      "i= 4\n",
      "2 4\n",
      "comapre 5 4\n",
      "swap\n",
      "3 4\n",
      "comapre 3 4\n",
      "i= 3\n",
      "1 3\n",
      "comapre 1 3\n",
      "2 3\n",
      "comapre 5 3\n",
      "swap\n",
      "i= 2\n",
      "i= 1\n",
      "0 1\n",
      "comapre 2 1\n",
      "swap\n",
      "i= 0\n",
      "3\n"
     ]
    }
   ],
   "source": [
    "swaps = 0\n",
    "for i in range(len(q)-1,-1,-1):\n",
    "    print('i=',i)\n",
    "    if q[i] - (i + 1) > 2:\n",
    "        print('Too chaotic')\n",
    "        break\n",
    "    for j in range(max(0, q[i] - 2),i):\n",
    "        \n",
    "        print(j,i)\n",
    "        print('comapre', q[j],q[i])\n",
    "        \n",
    "        if q[j] > q[i]:\n",
    "            print('swap')\n",
    "            swaps+=1\n",
    "            \n",
    "print(swaps)"
   ]
  },
  {
   "cell_type": "markdown",
   "id": "5b5d472a",
   "metadata": {},
   "source": [
    "# HASH TABLES:RANSOM NOTE"
   ]
  },
  {
   "cell_type": "code",
   "execution_count": 50,
   "id": "e32ad692",
   "metadata": {},
   "outputs": [],
   "source": [
    "magazine='give me one grand today night'\n",
    "note='give one grand today'"
   ]
  },
  {
   "cell_type": "code",
   "execution_count": 51,
   "id": "e8afcd2a",
   "metadata": {},
   "outputs": [
    {
     "name": "stdout",
     "output_type": "stream",
     "text": [
      "Yes\n"
     ]
    }
   ],
   "source": [
    "# My Solution(It works)\n",
    "mag={}\n",
    "for m in magazine:\n",
    "    if m in mag:\n",
    "         mag[m]+=1\n",
    "    else:\n",
    "          mag[m]=1\n",
    "for n in note:\n",
    "    if n in mag:\n",
    "        if mag[n]>0:\n",
    "            mag[n]-=1\n",
    "        else:\n",
    "            print('No')\n",
    "    else:\n",
    "         print('No')\n",
    "        \n",
    "print('Yes')"
   ]
  },
  {
   "cell_type": "code",
   "execution_count": 56,
   "id": "adbf6a66",
   "metadata": {},
   "outputs": [
    {
     "name": "stdout",
     "output_type": "stream",
     "text": [
      "0\n",
      "give me one grand today night\n",
      "No\n",
      "Yes\n"
     ]
    }
   ],
   "source": [
    "# Alternate Solution\n",
    "for n in note:\n",
    "    try:\n",
    "        mag_index = magazine.index(n)\n",
    "        print(mag_index)\n",
    "        del magazine[mag_index]        \n",
    "    except:\n",
    "        print(magzine)\n",
    "        print('No')\n",
    "        break\n",
    "    \n",
    "print('Yes')\n",
    "    "
   ]
  },
  {
   "cell_type": "code",
   "execution_count": null,
   "id": "466520ef",
   "metadata": {},
   "outputs": [],
   "source": []
  }
 ],
 "metadata": {
  "kernelspec": {
   "display_name": "Python 3",
   "language": "python",
   "name": "python3"
  },
  "language_info": {
   "codemirror_mode": {
    "name": "ipython",
    "version": 3
   },
   "file_extension": ".py",
   "mimetype": "text/x-python",
   "name": "python",
   "nbconvert_exporter": "python",
   "pygments_lexer": "ipython3",
   "version": "3.8.8"
  }
 },
 "nbformat": 4,
 "nbformat_minor": 5
}
