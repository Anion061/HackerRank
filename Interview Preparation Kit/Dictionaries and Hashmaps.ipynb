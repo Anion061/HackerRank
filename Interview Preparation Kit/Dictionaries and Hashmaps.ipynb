{
 "cells": [
  {
   "cell_type": "markdown",
   "id": "5b5d472a",
   "metadata": {},
   "source": [
    "# HASH TABLES:RANSOM NOTE"
   ]
  },
  {
   "cell_type": "code",
   "execution_count": 50,
   "id": "e32ad692",
   "metadata": {},
   "outputs": [],
   "source": [
    "magazine='give me one grand today night'\n",
    "note='give one grand today'"
   ]
  },
  {
   "cell_type": "code",
   "execution_count": 51,
   "id": "e8afcd2a",
   "metadata": {},
   "outputs": [
    {
     "name": "stdout",
     "output_type": "stream",
     "text": [
      "Yes\n"
     ]
    }
   ],
   "source": [
    "# My Solution(It works)\n",
    "mag={}\n",
    "for m in magazine:\n",
    "    if m in mag:\n",
    "         mag[m]+=1\n",
    "    else:\n",
    "          mag[m]=1\n",
    "for n in note:\n",
    "    if n in mag:\n",
    "        if mag[n]>0:\n",
    "            mag[n]-=1\n",
    "        else:\n",
    "            print('No')\n",
    "    else:\n",
    "         print('No')\n",
    "        \n",
    "print('Yes')"
   ]
  },
  {
   "cell_type": "code",
   "execution_count": 56,
   "id": "adbf6a66",
   "metadata": {},
   "outputs": [
    {
     "name": "stdout",
     "output_type": "stream",
     "text": [
      "0\n",
      "give me one grand today night\n",
      "No\n",
      "Yes\n"
     ]
    }
   ],
   "source": [
    "# Alternate Solution\n",
    "for n in note:\n",
    "    try:\n",
    "        mag_index = magazine.index(n)\n",
    "        print(mag_index)\n",
    "        del magazine[mag_index]        \n",
    "    except:\n",
    "        print(magzine)\n",
    "        print('No')\n",
    "        break\n",
    "    \n",
    "print('Yes')\n",
    "    "
   ]
  },
  {
   "cell_type": "markdown",
   "id": "a4c27c42",
   "metadata": {},
   "source": [
    "# SHERLOCK AND ANAGRAMS"
   ]
  },
  {
   "cell_type": "code",
   "execution_count": 2,
   "id": "2efaffdb",
   "metadata": {},
   "outputs": [],
   "source": [
    "s='ifailuhkqq'"
   ]
  },
  {
   "cell_type": "code",
   "execution_count": 5,
   "id": "ee3c3407",
   "metadata": {},
   "outputs": [
    {
     "name": "stdout",
     "output_type": "stream",
     "text": [
      "3\n"
     ]
    }
   ],
   "source": [
    "anagram_dict={}\n",
    "count=0\n",
    "for i in range(1,len(s)):\n",
    "    for j in range(len(s)-i+1):\n",
    "        curr_sorted=str(sorted(s[j:j+i]))\n",
    "        if (curr_sorted not in anagram_dict):\n",
    "            anagram_dict[curr_sorted] = 1\n",
    "        else:\n",
    "            count += anagram_dict[curr_sorted]\n",
    "            anagram_dict[curr_sorted] += 1\n",
    "print(count)    "
   ]
  },
  {
   "cell_type": "code",
   "execution_count": null,
   "id": "5ae8c5fb",
   "metadata": {},
   "outputs": [],
   "source": []
  }
 ],
 "metadata": {
  "kernelspec": {
   "display_name": "Python 3",
   "language": "python",
   "name": "python3"
  },
  "language_info": {
   "codemirror_mode": {
    "name": "ipython",
    "version": 3
   },
   "file_extension": ".py",
   "mimetype": "text/x-python",
   "name": "python",
   "nbconvert_exporter": "python",
   "pygments_lexer": "ipython3",
   "version": "3.8.8"
  }
 },
 "nbformat": 4,
 "nbformat_minor": 5
}
