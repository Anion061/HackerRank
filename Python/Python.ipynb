{
 "cells": [
  {
   "cell_type": "markdown",
   "id": "4e572472",
   "metadata": {},
   "source": [
    "# COMPANY LOGO"
   ]
  },
  {
   "cell_type": "code",
   "execution_count": 33,
   "id": "14970fd6",
   "metadata": {},
   "outputs": [],
   "source": [
    "s='faabbbccde'"
   ]
  },
  {
   "cell_type": "code",
   "execution_count": 34,
   "id": "176c96ce",
   "metadata": {},
   "outputs": [
    {
     "name": "stdout",
     "output_type": "stream",
     "text": [
      "b 3\n",
      "a 2\n",
      "c 2\n"
     ]
    }
   ],
   "source": [
    "from collections import Counter\n",
    "\n",
    "c=Counter(sorted(s))\n",
    "for k,v in c.most_common(3):\n",
    "    print(k,v)"
   ]
  }
 ],
 "metadata": {
  "kernelspec": {
   "display_name": "Python 3",
   "language": "python",
   "name": "python3"
  },
  "language_info": {
   "codemirror_mode": {
    "name": "ipython",
    "version": 3
   },
   "file_extension": ".py",
   "mimetype": "text/x-python",
   "name": "python",
   "nbconvert_exporter": "python",
   "pygments_lexer": "ipython3",
   "version": "3.8.8"
  }
 },
 "nbformat": 4,
 "nbformat_minor": 5
}
